{
 "cells": [
  {
   "cell_type": "code",
   "execution_count": null,
   "metadata": {},
   "outputs": [],
   "source": [
    "function isPrime(n)\n",
    "    if n == 1\n",
    "        return(false)\n",
    "    elseif n == 2\n",
    "        return(true)\n",
    "    else\n",
    "        for i = 2:(n ^ (0.5)) + 1\n",
    "            if n % i == 0\n",
    "                return(false)\n",
    "            end\n",
    "        end\n",
    "        return(true)\n",
    "    end\n",
    "end\n",
    "\n",
    "function prime_factors(n)\n",
    "    count = 0\n",
    "    final = [1]\n",
    "    k = n\n",
    "    if n == 1\n",
    "        return([])\n",
    "    end\n",
    "    while k != 1\n",
    "        count += 1\n",
    "        if k % count == 0 && isPrime(count) == true\n",
    "            k = k/count\n",
    "            final = [final; [count]]\n",
    "            count = 0\n",
    "        end\n",
    "\n",
    "\n",
    "    end\n",
    "    return(final[2:end])\n",
    "end"
   ]
  },
  {
   "cell_type": "code",
   "execution_count": null,
   "metadata": {},
   "outputs": [],
   "source": []
  },
  {
   "cell_type": "code",
   "execution_count": null,
   "metadata": {},
   "outputs": [],
   "source": []
  }
 ],
 "metadata": {},
 "nbformat": 4,
 "nbformat_minor": 2
}
